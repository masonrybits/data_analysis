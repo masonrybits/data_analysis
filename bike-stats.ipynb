{
 "cells": [
  {
   "cell_type": "markdown",
   "metadata": {},
   "source": [
    "# Bike Stats Analysis"
   ]
  },
  {
   "cell_type": "code",
   "execution_count": 1,
   "metadata": {},
   "outputs": [],
   "source": [
    "import pandas as pd\n",
    "import numpy as np\n",
    "import datetime"
   ]
  },
  {
   "cell_type": "code",
   "execution_count": 2,
   "metadata": {},
   "outputs": [],
   "source": [
    "station_df = pd.read_csv('./station.csv')"
   ]
  },
  {
   "cell_type": "code",
   "execution_count": 3,
   "metadata": {},
   "outputs": [
    {
     "name": "stderr",
     "output_type": "stream",
     "text": [
      "b'Skipping line 50794: expected 12 fields, saw 20\\n'\n"
     ]
    }
   ],
   "source": [
    "trip_df = pd.read_csv('./trip.csv', error_bad_lines=False)"
   ]
  },
  {
   "cell_type": "code",
   "execution_count": 4,
   "metadata": {},
   "outputs": [],
   "source": [
    "weather_df = pd.read_csv('./weather.csv')"
   ]
  },
  {
   "cell_type": "markdown",
   "metadata": {},
   "source": [
    "## What is the average trip duration for a borrowed bicycle?\n"
   ]
  },
  {
   "cell_type": "code",
   "execution_count": 5,
   "metadata": {},
   "outputs": [
    {
     "data": {
      "text/plain": [
       "1178.2956753399776"
      ]
     },
     "execution_count": 5,
     "metadata": {},
     "output_type": "execute_result"
    }
   ],
   "source": [
    "trip_df.tripduration.mean()"
   ]
  },
  {
   "cell_type": "markdown",
   "metadata": {},
   "source": [
    "## What’s the most common age of a bicycle-sharer?\n"
   ]
  },
  {
   "cell_type": "code",
   "execution_count": 6,
   "metadata": {},
   "outputs": [
    {
     "data": {
      "text/plain": [
       "0    32.0\n",
       "dtype: float64"
      ]
     },
     "execution_count": 6,
     "metadata": {},
     "output_type": "execute_result"
    }
   ],
   "source": [
    "(2019 - (trip_df.birthyear)).mode()"
   ]
  },
  {
   "cell_type": "markdown",
   "metadata": {},
   "source": [
    "## Given all the weather data here, find the average precipitation per month, and the median precipitation.\n"
   ]
  },
  {
   "cell_type": "code",
   "execution_count": 7,
   "metadata": {},
   "outputs": [],
   "source": [
    "weather_df['month'] = pd.DatetimeIndex(weather_df['Date']).month\n"
   ]
  },
  {
   "cell_type": "code",
   "execution_count": 8,
   "metadata": {},
   "outputs": [
    {
     "data": {
      "text/plain": [
       "month\n",
       "1     0.143548\n",
       "2     0.168421\n",
       "3     0.156935\n",
       "4     0.051333\n",
       "5     0.012419\n",
       "6     0.030500\n",
       "7     0.012097\n",
       "8     0.018226\n",
       "9     0.041000\n",
       "10    0.189000\n",
       "11    0.187833\n",
       "12    0.236290\n",
       "Name: mean, dtype: float64"
      ]
     },
     "execution_count": 8,
     "metadata": {},
     "output_type": "execute_result"
    }
   ],
   "source": [
    "weather_df.groupby('month').describe().Precipitation_In['mean']"
   ]
  },
  {
   "cell_type": "code",
   "execution_count": 9,
   "metadata": {},
   "outputs": [
    {
     "data": {
      "text/plain": [
       "month\n",
       "1     0.020\n",
       "2     0.040\n",
       "3     0.025\n",
       "4     0.000\n",
       "5     0.000\n",
       "6     0.000\n",
       "7     0.000\n",
       "8     0.000\n",
       "9     0.000\n",
       "10    0.040\n",
       "11    0.035\n",
       "12    0.100\n",
       "Name: Precipitation_In, dtype: float64"
      ]
     },
     "execution_count": 9,
     "metadata": {},
     "output_type": "execute_result"
    }
   ],
   "source": [
    "weather_df.groupby('month').median()['Precipitation_In']"
   ]
  },
  {
   "cell_type": "markdown",
   "metadata": {},
   "source": [
    "## What’s the average number of bikes at a given bike station?\n"
   ]
  },
  {
   "cell_type": "code",
   "execution_count": 10,
   "metadata": {},
   "outputs": [
    {
     "data": {
      "text/plain": [
       "station_id\n",
       "BT-01     18.0\n",
       "BT-03     16.0\n",
       "BT-04     16.0\n",
       "BT-05     14.0\n",
       "CBD-03    20.0\n",
       "CBD-04    18.0\n",
       "CBD-05    20.0\n",
       "CBD-06    20.0\n",
       "CBD-07    20.0\n",
       "CBD-13    18.0\n",
       "CD-01     16.0\n",
       "CH-01     16.0\n",
       "CH-02     18.0\n",
       "CH-03     16.0\n",
       "CH-05     16.0\n",
       "CH-06     16.0\n",
       "CH-07     18.0\n",
       "CH-08     28.0\n",
       "CH-09     16.0\n",
       "CH-12     18.0\n",
       "CH-15     16.0\n",
       "CH-16     18.0\n",
       "DPD-01    18.0\n",
       "DPD-03    30.0\n",
       "EL-01     12.0\n",
       "EL-03     18.0\n",
       "EL-05     18.0\n",
       "FH-01     16.0\n",
       "FH-04     20.0\n",
       "ID-04     16.0\n",
       "PS-04     18.0\n",
       "PS-05     18.0\n",
       "SLU-01    18.0\n",
       "SLU-02    18.0\n",
       "SLU-04    18.0\n",
       "SLU-07    18.0\n",
       "SLU-15    12.0\n",
       "SLU-16    20.0\n",
       "SLU-17    18.0\n",
       "SLU-18    20.0\n",
       "SLU-19    12.0\n",
       "SLU-20    20.0\n",
       "SLU-21    20.0\n",
       "SLU-22    18.0\n",
       "UD-01     18.0\n",
       "UD-02     18.0\n",
       "UD-04     16.0\n",
       "UD-07     16.0\n",
       "UW-01     16.0\n",
       "UW-02     12.0\n",
       "UW-04     18.0\n",
       "UW-06     12.0\n",
       "UW-07     20.0\n",
       "UW-10     16.0\n",
       "UW-11     16.0\n",
       "WF-01     18.0\n",
       "WF-03     18.0\n",
       "WF-04     18.0\n",
       "Name: mean, dtype: float64"
      ]
     },
     "execution_count": 10,
     "metadata": {},
     "output_type": "execute_result"
    }
   ],
   "source": [
    "station_df.groupby('station_id').describe().install_dockcount['mean']"
   ]
  },
  {
   "cell_type": "markdown",
   "metadata": {},
   "source": [
    "## When a bike station is modified, is it more likely that it’ll lose bikes or gain bikes? How do you know?\n"
   ]
  },
  {
   "cell_type": "code",
   "execution_count": 11,
   "metadata": {},
   "outputs": [
    {
     "data": {
      "text/plain": [
       "install_dockcount    17.529412\n",
       "current_dockcount    13.764706\n",
       "dtype: float64"
      ]
     },
     "execution_count": 11,
     "metadata": {},
     "output_type": "execute_result"
    }
   ],
   "source": [
    "station_df[station_df.modification_date.notnull()][['install_dockcount','current_dockcount']].mean()\n"
   ]
  },
  {
   "cell_type": "code",
   "execution_count": 14,
   "metadata": {},
   "outputs": [
    {
     "name": "stdout",
     "output_type": "stream",
     "text": [
      "Likely to lost bikes when modified by looking at that the current_dockcount mean is less than install_dockcount after the modification.\n"
     ]
    }
   ],
   "source": [
    "print('Likely to lost bikes when modified by looking at that the current_dockcount mean is less than install_dockcount after the modification.')"
   ]
  },
  {
   "cell_type": "markdown",
   "metadata": {},
   "source": [
    "## What stations were decommissioned?"
   ]
  },
  {
   "cell_type": "code",
   "execution_count": 19,
   "metadata": {},
   "outputs": [
    {
     "data": {
      "text/html": [
       "<div>\n",
       "<style scoped>\n",
       "    .dataframe tbody tr th:only-of-type {\n",
       "        vertical-align: middle;\n",
       "    }\n",
       "\n",
       "    .dataframe tbody tr th {\n",
       "        vertical-align: top;\n",
       "    }\n",
       "\n",
       "    .dataframe thead th {\n",
       "        text-align: right;\n",
       "    }\n",
       "</style>\n",
       "<table border=\"1\" class=\"dataframe\">\n",
       "  <thead>\n",
       "    <tr style=\"text-align: right;\">\n",
       "      <th></th>\n",
       "      <th>station_id</th>\n",
       "      <th>name</th>\n",
       "      <th>lat</th>\n",
       "      <th>long</th>\n",
       "      <th>install_date</th>\n",
       "      <th>install_dockcount</th>\n",
       "      <th>modification_date</th>\n",
       "      <th>current_dockcount</th>\n",
       "      <th>decommission_date</th>\n",
       "    </tr>\n",
       "  </thead>\n",
       "  <tbody>\n",
       "    <tr>\n",
       "      <th>10</th>\n",
       "      <td>CD-01</td>\n",
       "      <td>12th Ave &amp; E Yesler Way</td>\n",
       "      <td>47.602103</td>\n",
       "      <td>-122.316923</td>\n",
       "      <td>5/22/2015</td>\n",
       "      <td>16</td>\n",
       "      <td>8/9/2016</td>\n",
       "      <td>0</td>\n",
       "      <td>8/9/2016</td>\n",
       "    </tr>\n",
       "    <tr>\n",
       "      <th>26</th>\n",
       "      <td>FH-01</td>\n",
       "      <td>Frye Art Museum / Terry Ave &amp; Columbia St</td>\n",
       "      <td>47.607281</td>\n",
       "      <td>-122.324783</td>\n",
       "      <td>10/13/2014</td>\n",
       "      <td>16</td>\n",
       "      <td>3/18/2016</td>\n",
       "      <td>0</td>\n",
       "      <td>3/18/2016</td>\n",
       "    </tr>\n",
       "    <tr>\n",
       "      <th>38</th>\n",
       "      <td>SLU-18</td>\n",
       "      <td>Dexter Ave &amp; Denny Way</td>\n",
       "      <td>47.618285</td>\n",
       "      <td>-122.342205</td>\n",
       "      <td>10/13/2014</td>\n",
       "      <td>20</td>\n",
       "      <td>11/2/2015</td>\n",
       "      <td>0</td>\n",
       "      <td>7/2/2016</td>\n",
       "    </tr>\n",
       "    <tr>\n",
       "      <th>46</th>\n",
       "      <td>UW-01</td>\n",
       "      <td>UW McCarty Hall / Whitman Ct</td>\n",
       "      <td>47.660268</td>\n",
       "      <td>-122.304826</td>\n",
       "      <td>10/13/2014</td>\n",
       "      <td>16</td>\n",
       "      <td>10/29/2015</td>\n",
       "      <td>0</td>\n",
       "      <td>10/29/2015</td>\n",
       "    </tr>\n",
       "  </tbody>\n",
       "</table>\n",
       "</div>"
      ],
      "text/plain": [
       "   station_id                                       name        lat  \\\n",
       "10      CD-01                    12th Ave & E Yesler Way  47.602103   \n",
       "26      FH-01  Frye Art Museum / Terry Ave & Columbia St  47.607281   \n",
       "38     SLU-18                     Dexter Ave & Denny Way  47.618285   \n",
       "46      UW-01               UW McCarty Hall / Whitman Ct  47.660268   \n",
       "\n",
       "          long install_date  install_dockcount modification_date  \\\n",
       "10 -122.316923    5/22/2015                 16          8/9/2016   \n",
       "26 -122.324783   10/13/2014                 16         3/18/2016   \n",
       "38 -122.342205   10/13/2014                 20         11/2/2015   \n",
       "46 -122.304826   10/13/2014                 16        10/29/2015   \n",
       "\n",
       "    current_dockcount decommission_date  \n",
       "10                  0          8/9/2016  \n",
       "26                  0         3/18/2016  \n",
       "38                  0          7/2/2016  \n",
       "46                  0        10/29/2015  "
      ]
     },
     "execution_count": 19,
     "metadata": {},
     "output_type": "execute_result"
    }
   ],
   "source": [
    "station_df[station_df.decommission_date.notnull()]"
   ]
  },
  {
   "cell_type": "markdown",
   "metadata": {},
   "source": [
    "## How many stations were placed in service each year?"
   ]
  },
  {
   "cell_type": "code",
   "execution_count": 23,
   "metadata": {},
   "outputs": [],
   "source": [
    "station_df['year'] = pd.DatetimeIndex(station_df['install_date']).year\n"
   ]
  },
  {
   "cell_type": "code",
   "execution_count": 32,
   "metadata": {},
   "outputs": [
    {
     "data": {
      "text/plain": [
       "year\n",
       "2014    50.0\n",
       "2015     5.0\n",
       "2016     3.0\n",
       "Name: count, dtype: float64"
      ]
     },
     "execution_count": 32,
     "metadata": {},
     "output_type": "execute_result"
    }
   ],
   "source": [
    "station_df.groupby('year').describe().install_dockcount['count']"
   ]
  },
  {
   "cell_type": "code",
   "execution_count": null,
   "metadata": {},
   "outputs": [],
   "source": [
    "## From what station did mo"
   ]
  },
  {
   "cell_type": "code",
   "execution_count": 35,
   "metadata": {},
   "outputs": [
    {
     "data": {
      "text/plain": [
       "0    Pier 69 / Alaskan Way & Clay St\n",
       "dtype: object"
      ]
     },
     "execution_count": 35,
     "metadata": {},
     "output_type": "execute_result"
    }
   ],
   "source": [
    "trip_df.from_station_name.mode()"
   ]
  },
  {
   "cell_type": "code",
   "execution_count": null,
   "metadata": {},
   "outputs": [],
   "source": []
  }
 ],
 "metadata": {
  "kernelspec": {
   "display_name": "Python 3",
   "language": "python",
   "name": "python3"
  },
  "language_info": {
   "codemirror_mode": {
    "name": "ipython",
    "version": 3
   },
   "file_extension": ".py",
   "mimetype": "text/x-python",
   "name": "python",
   "nbconvert_exporter": "python",
   "pygments_lexer": "ipython3",
   "version": "3.7.5"
  }
 },
 "nbformat": 4,
 "nbformat_minor": 4
}
